{
  "nbformat": 4,
  "nbformat_minor": 0,
  "metadata": {
    "colab": {
      "name": "Copia de pitagoras_teorem.ipynb",
      "provenance": [],
      "collapsed_sections": [],
      "toc_visible": true,
      "authorship_tag": "ABX9TyO/nbURARdEod56deGRstN+",
      "include_colab_link": true
    },
    "kernelspec": {
      "name": "python3",
      "display_name": "Python 3"
    }
  },
  "cells": [
    {
      "cell_type": "markdown",
      "metadata": {
        "id": "view-in-github",
        "colab_type": "text"
      },
      "source": [
        "<a href=\"https://colab.research.google.com/github/luiseps/machine-learning/blob/master/pythagorass_theorem.ipynb\" target=\"_parent\"><img src=\"https://colab.research.google.com/assets/colab-badge.svg\" alt=\"Open In Colab\"/></a>"
      ]
    },
    {
      "cell_type": "markdown",
      "metadata": {
        "id": "w7re8N0iPkIW",
        "colab_type": "text"
      },
      "source": [
        "# Teorema de Pitágoras"
      ]
    },
    {
      "cell_type": "code",
      "metadata": {
        "id": "JRweMlToPFWo",
        "colab_type": "code",
        "colab": {}
      },
      "source": [
        "import math"
      ],
      "execution_count": null,
      "outputs": []
    },
    {
      "cell_type": "markdown",
      "metadata": {
        "id": "lr860WaOQjN4",
        "colab_type": "text"
      },
      "source": [
        "# Esta es la fórmula del teorema de pítagoras: $sqrt(a^2 + b^2)$"
      ]
    },
    {
      "cell_type": "code",
      "metadata": {
        "id": "hhLzVJFJQILf",
        "colab_type": "code",
        "colab": {}
      },
      "source": [
        "def pitagoras(a,b):\n",
        "  return math.sqrt(a**2+b**2)"
      ],
      "execution_count": null,
      "outputs": []
    },
    {
      "cell_type": "code",
      "metadata": {
        "id": "wzN7CnoGQSAF",
        "colab_type": "code",
        "colab": {
          "base_uri": "https://localhost:8080/",
          "height": 34
        },
        "outputId": "9d209fea-356b-4e72-dd4f-d21251a03b13"
      },
      "source": [
        "pitagoras(4,5)"
      ],
      "execution_count": null,
      "outputs": [
        {
          "output_type": "execute_result",
          "data": {
            "text/plain": [
              "6.4031242374328485"
            ]
          },
          "metadata": {
            "tags": []
          },
          "execution_count": 9
        }
      ]
    },
    {
      "cell_type": "code",
      "metadata": {
        "id": "Gvzk_2deQyva",
        "colab_type": "code",
        "colab": {}
      },
      "source": [
        ""
      ],
      "execution_count": null,
      "outputs": []
    }
  ]
}